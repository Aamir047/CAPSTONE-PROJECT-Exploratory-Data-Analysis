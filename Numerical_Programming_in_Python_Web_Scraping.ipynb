{
  "nbformat": 4,
  "nbformat_minor": 0,
  "metadata": {
    "colab": {
      "provenance": [],
      "collapsed_sections": [
        "edb4gsNcRJQN",
        "_RI5FD3CqFVV",
        "IrJlIsBWrO2r",
        "Mnh22VX_7f6K",
        "LYQ5acWzJRZr",
        "ev-VUSNvJ-fJ",
        "1vZLzmqcKDPX",
        "mEIt9j6RKa9B",
        "P96pGO9kRCLv",
        "hk3eSdDAXQv8",
        "XZ9nJhmiZB_W",
        "ii49LH4tdNoN",
        "mHZwwgiKdlQm",
        "uUOtDJv9gM4a",
        "nD4QVPT-nfVR",
        "CyqHHKh4IDx6",
        "0bPDbn-gPyfm",
        "N_OroblUQG4r",
        "BUPye0P0QP5I",
        "tytqsADVR2x6"
      ],
      "include_colab_link": true
    },
    "kernelspec": {
      "name": "python3",
      "display_name": "Python 3"
    },
    "language_info": {
      "name": "python"
    }
  },
  "cells": [
    {
      "cell_type": "markdown",
      "metadata": {
        "id": "view-in-github",
        "colab_type": "text"
      },
      "source": [
        "<a href=\"https://colab.research.google.com/github/Aamir047/CAPSTONE-PROJECT-Exploratory-Data-Analysis/blob/main/Numerical_Programming_in_Python_Web_Scraping.ipynb\" target=\"_parent\"><img src=\"https://colab.research.google.com/assets/colab-badge.svg\" alt=\"Open In Colab\"/></a>"
      ]
    },
    {
      "cell_type": "markdown",
      "source": [
        "# **Web Scraping & Data Handling Challenge**"
      ],
      "metadata": {
        "id": "bKFlk3slQ1ol"
      }
    },
    {
      "cell_type": "markdown",
      "source": [
        "\n",
        "\n",
        "### **Website:**\n",
        "JustWatch -  https://www.justwatch.com/in/movies?release_year_from=2000\n",
        "\n",
        "\n",
        "### **Description:**\n",
        "\n",
        "JustWatch is a popular platform that allows users to search for movies and TV shows across multiple streaming services like Netflix, Amazon Prime, Hulu, etc. For this assignment, you will be required to scrape movie and TV show data from JustWatch using Selenium, Python, and BeautifulSoup. Extract data from HTML, not by directly calling their APIs. Then, perform data filtering and analysis using Pandas, and finally, save the results to a CSV file.\n",
        "\n",
        "### **Tasks:**\n",
        "\n",
        "**1. Web Scraping:**\n",
        "\n",
        "Use BeautifulSoup to scrape the following data from JustWatch:\n",
        "\n",
        "   **a. Movie Information:**\n",
        "\n",
        "      - Movie title\n",
        "      - Release year\n",
        "      - Genre\n",
        "      - IMDb rating\n",
        "      - Streaming services available (Netflix, Amazon Prime, Hulu, etc.)\n",
        "      - URL to the movie page on JustWatch\n",
        "\n",
        "   **b. TV Show Information:**\n",
        "\n",
        "      - TV show title\n",
        "      - Release year\n",
        "      - Genre\n",
        "      - IMDb rating\n",
        "      - Streaming services available (Netflix, Amazon Prime, Hulu, etc.)\n",
        "      - URL to the TV show page on JustWatch\n",
        "\n",
        "  **c. Scope:**\n",
        "\n",
        "```\n",
        " ` - Scrape data for at least 50 movies and 50 TV shows.\n",
        "   - You can choose the entry point (e.g., starting with popular movies,\n",
        "     or a specific genre, etc.) to ensure a diverse dataset.`\n",
        "\n",
        "```\n",
        "\n",
        "\n",
        "**2. Data Filtering & Analysis:**\n",
        "\n",
        "   After scraping the data, use Pandas to perform the following tasks:\n",
        "\n",
        "   **a. Filter movies and TV shows based on specific criteria:**\n",
        "\n",
        "   ```\n",
        "      - Only include movies and TV shows released in the last 2 years (from the current date).\n",
        "      - Only include movies and TV shows with an IMDb rating of 7 or higher.\n",
        "```\n",
        "\n",
        "   **b. Data Analysis:**\n",
        "\n",
        "   ```\n",
        "      - Calculate the average IMDb rating for the scraped movies and TV shows.\n",
        "      - Identify the top 5 genres that have the highest number of available movies and TV shows.\n",
        "      - Determine the streaming service with the most significant number of offerings.\n",
        "      \n",
        "   ```   \n",
        "\n",
        "**3. Data Export:**\n",
        "\n",
        "```\n",
        "   - Dump the filtered and analysed data into a CSV file for further processing and reporting.\n",
        "\n",
        "   - Keep the CSV file in your Drive Folder and Share the Drive link on the colab while keeping view access with anyone.\n",
        "```\n",
        "\n",
        "**Submission:**\n",
        "```\n",
        "- Submit a link to your Colab made for the assignment.\n",
        "\n",
        "- The Colab should contain your Python script (.py format only) with clear\n",
        "  comments explaining the scraping, filtering, and analysis process.\n",
        "\n",
        "- Your Code shouldn't have any errors and should be executable at a one go.\n",
        "\n",
        "- Before Conclusion, Keep your Dataset Drive Link in the Notebook.\n",
        "```\n",
        "\n",
        "\n",
        "\n",
        "**Note:**\n",
        "\n",
        "1. Properly handle errors and exceptions during web scraping to ensure a robust script.\n",
        "\n",
        "2. Make sure your code is well-structured, easy to understand, and follows Python best practices.\n",
        "\n",
        "3. The assignment will be evaluated based on the correctness of the scraped data, accuracy of data filtering and analysis, and the overall quality of the Python code.\n",
        "\n",
        "\n",
        "\n",
        "\n",
        "\n",
        "\n"
      ],
      "metadata": {
        "id": "YU_opgaCYpcO"
      }
    },
    {
      "cell_type": "markdown",
      "source": [
        "# **Start The Project**"
      ],
      "metadata": {
        "id": "k8ptoMlNQ5zB"
      }
    },
    {
      "cell_type": "markdown",
      "source": [
        "## **Task 1:- Web Scrapping**"
      ],
      "metadata": {
        "id": "-xHLaFLPn4yC"
      }
    },
    {
      "cell_type": "code",
      "source": [
        "#Installing all necessary labraries\n",
        "!pip install bs4\n",
        "!pip install requests"
      ],
      "metadata": {
        "id": "axiEsy9ZL3qd",
        "colab": {
          "base_uri": "https://localhost:8080/"
        },
        "outputId": "f2d69ca0-4f85-4ec8-adc6-859ce66df29c"
      },
      "execution_count": null,
      "outputs": [
        {
          "output_type": "stream",
          "name": "stdout",
          "text": [
            "Collecting bs4\n",
            "  Downloading bs4-0.0.2-py2.py3-none-any.whl.metadata (411 bytes)\n",
            "Requirement already satisfied: beautifulsoup4 in /usr/local/lib/python3.10/dist-packages (from bs4) (4.12.3)\n",
            "Requirement already satisfied: soupsieve>1.2 in /usr/local/lib/python3.10/dist-packages (from beautifulsoup4->bs4) (2.6)\n",
            "Downloading bs4-0.0.2-py2.py3-none-any.whl (1.2 kB)\n",
            "Installing collected packages: bs4\n",
            "Successfully installed bs4-0.0.2\n",
            "Requirement already satisfied: requests in /usr/local/lib/python3.10/dist-packages (2.32.3)\n",
            "Requirement already satisfied: charset-normalizer<4,>=2 in /usr/local/lib/python3.10/dist-packages (from requests) (3.4.0)\n",
            "Requirement already satisfied: idna<4,>=2.5 in /usr/local/lib/python3.10/dist-packages (from requests) (3.10)\n",
            "Requirement already satisfied: urllib3<3,>=1.21.1 in /usr/local/lib/python3.10/dist-packages (from requests) (2.2.3)\n",
            "Requirement already satisfied: certifi>=2017.4.17 in /usr/local/lib/python3.10/dist-packages (from requests) (2024.8.30)\n"
          ]
        }
      ]
    },
    {
      "cell_type": "code",
      "source": [
        "#import all necessary labraries\n",
        "import requests\n",
        "from bs4 import BeautifulSoup\n",
        "import re\n",
        "import pandas as pd\n",
        "import numpy as np"
      ],
      "metadata": {
        "id": "omJlLZASQBmU"
      },
      "execution_count": null,
      "outputs": []
    },
    {
      "cell_type": "markdown",
      "source": [
        "## **Scrapping Movies Data**"
      ],
      "metadata": {
        "id": "NCWbwB1Og3bD"
      }
    },
    {
      "cell_type": "code",
      "source": [
        "# URL from which movies data is fetched\n",
        "url=\"https://www.justwatch.com/in/movies?release_year_from=2000\"\n",
        "\n",
        "# Sending an HTTP GET request to the URL\n",
        "response = requests.get(url)\n",
        "\n",
        "# Parsing HTML content with Beautiful Soup\n",
        "soup = BeautifulSoup(response.text,'html.parser')"
      ],
      "metadata": {
        "id": "nPDgza5mQJKr"
      },
      "execution_count": null,
      "outputs": []
    },
    {
      "cell_type": "markdown",
      "source": [
        "## **Fetching Movie URL's**"
      ],
      "metadata": {
        "id": "V-qsNrtIsBEp"
      }
    },
    {
      "cell_type": "code",
      "source": [
        "# Write Your Code here\n",
        "movie_url_list=[] # List to store all movie urls\n",
        "\n",
        "# For every movie title present in movies_title_list , Finding their url\n",
        "for movie in movie_title_list:\n",
        "\n",
        "    # Constructing the absolute URL for fetching each movie\n",
        "    absolute_url = 'https://www.justwatch.com/in/movie/' + movie\n",
        "    movie_url_list.append(absolute_url)"
      ],
      "metadata": {
        "id": "nXj9U4lshQY1"
      },
      "execution_count": null,
      "outputs": []
    },
    {
      "cell_type": "markdown",
      "source": [
        "## **Scrapping Movie Title**"
      ],
      "metadata": {
        "id": "Dam_ehZgvgmw"
      }
    },
    {
      "cell_type": "code",
      "source": [
        "# Write Your Code here\n",
        "\n",
        "movie_title_list=[]# List to store all movie title\n",
        "\n",
        "# Extracting all movie titles from  tag and storing them in movie_titles\n",
        "movie_titles = soup.find_all('a',class_='title-list-grid__item--link',attrs={'href':True})\n",
        "\n",
        "# Extracting each movie title from movie_titles and storing in movie_title_list\n",
        "for movie_title in movie_titles:\n",
        "\n",
        "    # Extract the 'href' attribute value, which contains the movie title\n",
        "    data_id_value = movie_title['href']\n",
        "\n",
        "    # Removing the '/in/movie/' prefix to get the clean movie title\n",
        "    data_id_value = data_id_value.replace(\"/in/movie/\",\"\")\n",
        "\n",
        "    # Converting the movie title to uppercase and appending to the list\n",
        "    movie_title_list.append(data_id_value.upper())\n"
      ],
      "metadata": {
        "id": "1FGDXRKQxd1s"
      },
      "execution_count": null,
      "outputs": []
    },
    {
      "cell_type": "markdown",
      "source": [
        "## **Scrapping release Year**"
      ],
      "metadata": {
        "id": "VEg1U1uPzGoj"
      }
    },
    {
      "cell_type": "code",
      "source": [
        "# Write Your Code here\n",
        "movie_release_year_list = []# List to store all movie release year\n",
        "\n",
        "# For every movie title present in movies_title_list , Finding their release year\n",
        "for movie in movie_title_list:\n",
        "\n",
        "    # Constructing the absolute URL for fetching each movie\n",
        "    absolute_url = 'https://www.justwatch.com/in/movie/' + movie\n",
        "\n",
        "    # Sending an HTTP GET request to the\n",
        "    response_ry = requests.get(absolute_url)\n",
        "\n",
        "    # Parsing HTML content with Beautiful Soup\n",
        "    soup_ry = BeautifulSoup(response_ry.text,'html.parser')\n",
        "    movie_release_year =soup_ry.find('span',class_='text-muted').text.strip()\n",
        "    movie_release_year=movie_release_year.replace(\"(\",\"\")\n",
        "    movie_release_year=movie_release_year.replace(\")\",\"\")\n",
        "    movie_release_year_list.append(movie_release_year)"
      ],
      "metadata": {
        "id": "wLqLKOvP5Gmt"
      },
      "execution_count": null,
      "outputs": []
    },
    {
      "cell_type": "markdown",
      "source": [
        "## **Scrapping Genres**"
      ],
      "metadata": {
        "id": "aqzhL8STqaMX"
      }
    },
    {
      "cell_type": "code",
      "source": [
        "# Write Your Code here\n",
        "\n",
        "movie_genre_list = []# List to store all movie genre\n",
        "\n",
        "# For every movie title present in movies_title_list , Finding their genre\n",
        "for movie in movie_title_list:\n",
        "\n",
        "    # Constructing the absolute URL for fetching each movie\n",
        "    absolute_url = 'https://www.justwatch.com/in/movie/' + movie\n",
        "    response_g = requests.get(absolute_url)\n",
        "    soup = BeautifulSoup(response_g.text,'html.parser')\n",
        "\n",
        "    # Selecting only those h3 whose heading is genres\n",
        "    h3_element = soup.find('h3', class_='detail-infos__subheading', string='Genres')\n",
        "\n",
        "    if h3_element:\n",
        "        # Check if the next sibling is a div with class \"detail-infos__value\"\n",
        "        div_element = h3_element.find_next_sibling('div', class_='detail-infos__value')\n",
        "\n",
        "        if div_element:\n",
        "            movie_genre_list.append(div_element.text.strip())\n",
        "        else:\n",
        "            movie_genre_list.append(\"Genre Not Listed\")\n",
        "    else:\n",
        "         movie_genre_list.append(\"Genre Not Listed\")"
      ],
      "metadata": {
        "id": "NYGVsfKjrDWr"
      },
      "execution_count": null,
      "outputs": []
    },
    {
      "cell_type": "markdown",
      "source": [
        "## **Scrapping IMBD Rating**"
      ],
      "metadata": {
        "id": "UOof6-0xFuf6"
      }
    },
    {
      "cell_type": "code",
      "source": [
        "# Write Your Code here\n",
        "movie_imdb_list = []# List to store all movie imdb rating\n",
        "\n",
        "# For every movie title present in movies_title_list , Finding their Imdb Rating\n",
        "for movie in movie_title_list:\n",
        "\n",
        "    # Constructing the absolute URL for fetching each movie\n",
        "    absolute_url = 'https://www.justwatch.com/in/movie/' + movie\n",
        "    response_g = requests.get(absolute_url)\n",
        "    soup = BeautifulSoup(response_g.text, 'html.parser')\n",
        "\n",
        "    # Selecting only those h3 whose heading is Rating\n",
        "    h3_element = soup.find('h3', class_='detail-infos__subheading', string='Rating')\n",
        "\n",
        "    if h3_element:\n",
        "        # Check if the next sibling is a div with class \"detail-infos__value\"\n",
        "        div_element = h3_element.find_next_sibling('div', class_='detail-infos__value')\n",
        "\n",
        "        if div_element:\n",
        "            inside_div = div_element.find_all('div', class_='jw-scoring-listing__rating')\n",
        "\n",
        "            # Check if inside_div is non-empty\n",
        "            if inside_div:\n",
        "                inside_div_last = inside_div[-1] # extracting last div of inside div as last div elemnt contains span (in which last span contains rating)\n",
        "\n",
        "                # Check if inside_div_last is non-empty\n",
        "                if inside_div_last:\n",
        "                    span_all = inside_div_last.find_all('span')\n",
        "\n",
        "                    # Check if span_all is non-empty\n",
        "                    if span_all:\n",
        "                        span_last = span_all[-1] # Here we are extracting rating from the last span(span_last) inside last div(inside_div_last) of main div_element(div_element)\n",
        "                        movie_imdb_list.append(span_last.text.strip())\n",
        "                    else:\n",
        "                        movie_imdb_list.append(\"Imdb Rating Not Listed.\")\n",
        "                else:\n",
        "                    movie_imdb_list.append(\"Imdb Rating Not Listed.\")\n",
        "            else:\n",
        "                movie_imdb_list.append(\"Imdb Rating Not Listed.\")\n",
        "        else:\n",
        "            movie_imdb_list.append(\"Imdb Rating Not Listed.\")\n",
        "    else:\n",
        "        movie_imdb_list.append(\"Imdb Rating Not Listed.\")\n",
        "\n"
      ],
      "metadata": {
        "id": "gW467MLx6aCH"
      },
      "execution_count": null,
      "outputs": []
    },
    {
      "cell_type": "markdown",
      "source": [
        "## **Scrapping Runtime/Duration**"
      ],
      "metadata": {
        "id": "8CHiu0A5RAuM"
      }
    },
    {
      "cell_type": "code",
      "source": [
        "# Write Your Code here\n",
        "movie_runtime_list=[]# List to store all movie runtime/duration\n",
        "\n",
        "# For every movie title present in movies_title_list , Finding their Runtime/Duration\n",
        "for movie in movie_title_list:\n",
        "\n",
        "    # Constructing the absolute URL for fetching each movie\n",
        "    absolute_url = 'https://www.justwatch.com/in/movie/' + movie\n",
        "    response_g = requests.get(absolute_url)\n",
        "    soup = BeautifulSoup(response_g.text,'html.parser')\n",
        "\n",
        "    # Selecting only those h3 whose heading is runtine\n",
        "    h3_element = soup.find('h3', class_='detail-infos__subheading', string='Runtime')\n",
        "\n",
        "    if h3_element:\n",
        "        # Check if the next sibling is a div with class \"detail-infos__value\"\n",
        "        div_element = h3_element.find_next_sibling('div', class_='detail-infos__value')\n",
        "\n",
        "        if div_element:\n",
        "            movie_runtime_list.append(div_element.text.strip())\n",
        "        else:\n",
        "            movie_runtime_list.append(\"No Runtime/Duration mentioned\")\n",
        "    else:\n",
        "      movie_runtime_list.append(\"No Runtime/Duration mentioned\")\n"
      ],
      "metadata": {
        "id": "si_yaGO8OTBo"
      },
      "execution_count": null,
      "outputs": []
    },
    {
      "cell_type": "markdown",
      "source": [
        "## **Scrapping Age Rating**"
      ],
      "metadata": {
        "id": "edb4gsNcRJQN"
      }
    },
    {
      "cell_type": "code",
      "source": [
        "# Write Your Code here\n",
        "movie_age_rating_list = []# List to store all movie age rating\n",
        "\n",
        "# For every movie title present in movies_title_list , Finding their Age Rating\n",
        "for movie in movie_title_list:\n",
        "\n",
        "    # Constructing the absolute URL for fetching each movie\n",
        "    absolute_url = 'https://www.justwatch.com/in/movie/' + movie\n",
        "    response_g = requests.get(absolute_url)\n",
        "    soup = BeautifulSoup(response_g.text,'html.parser')\n",
        "\n",
        "    # Selecting only those h3 whose heading is Age rating\n",
        "    h3_element = soup.find('h3', class_='detail-infos__subheading', string='Age rating')\n",
        "\n",
        "    if h3_element:\n",
        "        # Check if the next sibling is a div with class \"detail-infos__value\"\n",
        "        div_element = h3_element.find_next_sibling('div', class_='detail-infos__value')\n",
        "\n",
        "        if div_element:\n",
        "            movie_age_rating_list.append(div_element.text.strip())\n",
        "        else:\n",
        "            movie_age_rating_list.append(\"Age Rating Not Listed.\")\n",
        "    else:\n",
        "         movie_age_rating_list.append(\"Age Rating Not Listed.\")"
      ],
      "metadata": {
        "id": "ZsHskhOcNAUj"
      },
      "execution_count": null,
      "outputs": []
    },
    {
      "cell_type": "markdown",
      "source": [
        "## **Fetching Production Countries Details**"
      ],
      "metadata": {
        "id": "_RI5FD3CqFVV"
      }
    },
    {
      "cell_type": "code",
      "source": [
        "# Write Your Code here\n",
        "movie_production_country_list=[]# List to store all movie production country\n",
        "\n",
        "# For every movie title present in movies_title_list , Finding their Production country\n",
        "for movie in movie_title_list:\n",
        "\n",
        "    # Constructing the absolute URL for fetching each movie\n",
        "    absolute_url = 'https://www.justwatch.com/in/movie/' + movie\n",
        "    response = requests.get(absolute_url)\n",
        "    soup = BeautifulSoup(response.text,'html.parser')\n",
        "\n",
        "    # Selecting only those h3 whose sub-heading inside details- infos is 'Production Country'\n",
        "    h3_element = soup.find('h3', class_='detail-infos__subheading', string=' Production country ')\n",
        "\n",
        "    if h3_element:\n",
        "        # Check if the next sibling is a div with class \"detail-infos__value\"\n",
        "        div_element = h3_element.find_next_sibling('div', class_='detail-infos__value')\n",
        "\n",
        "        if div_element:\n",
        "            movie_production_country_list.append(div_element.text.strip())\n",
        "        else:\n",
        "            movie_production_country_list.append(\"Production Country Not Listed\")\n",
        "    else:\n",
        "       movie_production_country_list.append(\"Production Country Not Listed\")"
      ],
      "metadata": {
        "id": "ai6YOgZmYIcc"
      },
      "execution_count": null,
      "outputs": []
    },
    {
      "cell_type": "markdown",
      "source": [
        "## **Fetching Streaming Service Details**"
      ],
      "metadata": {
        "id": "IrJlIsBWrO2r"
      }
    },
    {
      "cell_type": "code",
      "source": [
        "# Write Your Code here\n",
        "movie_streaming_list=[]# List to store all movie streaming platform\n",
        "\n",
        "# For every movie title present in movies_title_list , Finding their Streaming Platform\n",
        "for movie in movie_title_list:\n",
        "\n",
        "    # Constructing the absolute URL for fetching each movie\n",
        "    absolute_url = 'https://www.justwatch.com/in/movie/' + movie\n",
        "    response = requests.get(absolute_url)\n",
        "    soup = BeautifulSoup(response.text,'html.parser')\n",
        "\n",
        "    # Finding the outer div element with the class \"buybox-row stream\"\n",
        "    outer_div = soup.find('div', class_='buybox-row stream')\n",
        "\n",
        "    if outer_div:\n",
        "        # Finding the nested div with class \"buybox-row__offers\" inside the outer div\n",
        "        inner_div = outer_div.find('div', class_='buybox-row__offers')\n",
        "\n",
        "        if inner_div:\n",
        "            # Find the picture element within the nested div\n",
        "            picture_element = inner_div.find('picture')\n",
        "\n",
        "            if picture_element:\n",
        "                # Extract the alt attribute from the img element inside the picture which contains streaming platform name\n",
        "                img_element = picture_element.find('img')\n",
        "                if img_element:\n",
        "                    alt_text = img_element['alt']\n",
        "                    movie_streaming_list.append(alt_text)\n",
        "                else:\n",
        "                    movie_streaming_list.append(\"Not Available for Streaming.\")\n",
        "            else:\n",
        "                movie_streaming_list.append(\"Not Available for Streaming.\")\n",
        "        else:\n",
        "            movie_streaming_list.append(\"Not Available for Streaming.\")\n",
        "    else:\n",
        "        movie_streaming_list.append(\"Not Available for Streaming.\")"
      ],
      "metadata": {
        "id": "Yk72jDLZu7EZ"
      },
      "execution_count": null,
      "outputs": []
    },
    {
      "cell_type": "markdown",
      "source": [
        "## **Now Creating Movies DataFrame**"
      ],
      "metadata": {
        "id": "Mnh22VX_7f6K"
      }
    },
    {
      "cell_type": "code",
      "source": [
        "# Write Your Code here\n",
        "data_movies = {\n",
        "    'Movie Title':movie_title_list,\n",
        "    'IMDB Rating':movie_imdb_list,\n",
        "    'Release Year':movie_release_year_list,\n",
        "    'Genre':movie_genre_list,\n",
        "    'Runtime/Duration':movie_runtime_list,\n",
        "    'Age Rating':movie_age_rating_list,\n",
        "    'Production Country':movie_production_country_list,\n",
        "    'Streaming Platform':movie_streaming_list,\n",
        "    'Url':movie_url_list\n",
        "}\n",
        "\n",
        "df_movies = pd.DataFrame(data_movies)"
      ],
      "metadata": {
        "id": "i7XQUICP5oBI"
      },
      "execution_count": null,
      "outputs": []
    },
    {
      "cell_type": "markdown",
      "source": [
        "## **Scraping TV  Show Data**"
      ],
      "metadata": {
        "id": "LYQ5acWzJRZr"
      }
    },
    {
      "cell_type": "code",
      "source": [
        "# Specifying the URL from which tv show related data will be fetched\n",
        "# URL from which tv shows data is fetched\n",
        "tv_url='https://www.justwatch.com/in/tv-shows?release_year_from=2000'\n",
        "\n",
        "# Sending an HTTP GET request to the URL\n",
        "response = requests.get(tv_url)\n",
        "\n",
        "# Parsing HTML content with Beautiful Soup\n",
        "soup_tv = BeautifulSoup(response.text,'html.parser')"
      ],
      "metadata": {
        "id": "Xic8FWfwI6AT"
      },
      "execution_count": null,
      "outputs": []
    },
    {
      "cell_type": "markdown",
      "source": [
        "## **Fetching Tv shows Url details**"
      ],
      "metadata": {
        "id": "ev-VUSNvJ-fJ"
      }
    },
    {
      "cell_type": "code",
      "source": [
        "# Write Your Code here\n",
        "tv_show_url_list = []  # List to store all tv show urls\n",
        "\n",
        "# For every tv show title present in tv_show_title_list , Finding their url\n",
        "for tv_show in tv_show_title_list:\n",
        "    # Constructing the absolute URL for fetching each tv show\n",
        "    absolute_url = 'https://www.justwatch.com/in/tv-show/' + tv_show\n",
        "\n",
        "    tv_show_url_list.append(absolute_url)"
      ],
      "metadata": {
        "id": "eMlwT4I-8gGh"
      },
      "execution_count": null,
      "outputs": []
    },
    {
      "cell_type": "markdown",
      "source": [
        "## **Fetching Tv Show Title details**"
      ],
      "metadata": {
        "id": "1vZLzmqcKDPX"
      }
    },
    {
      "cell_type": "code",
      "source": [
        "# Write Your Code here\n",
        "tv_show_title_list=[] # List to store all tv show title\n",
        "\n",
        "# Extracting all tv show titles and storing them in tv_show_titles\n",
        "tv_show_titles = soup_tv.find_all('a',class_='title-list-grid__item--link',attrs={'href':True})\n",
        "\n",
        "# Extracting each tv show title from tv_show_titles and storing in tv_show_title_list\n",
        "for tv_show_title in tv_show_titles:\n",
        "\n",
        "    # Extract the 'href' attribute value, which contains the tv_show title\n",
        "    data_id_value = tv_show_title['href']\n",
        "\n",
        "    # Removing the '/in/tv-show/' prefix to get the clean tv_show title\n",
        "    data_id_value = data_id_value.replace(\"/in/tv-show/\",\"\")\n",
        "\n",
        "    # Converting the tv_show title to uppercase and appending to the list\n",
        "    tv_show_title_list.append(data_id_value.upper())\n"
      ],
      "metadata": {
        "id": "a8Y6UF6-JLvO"
      },
      "execution_count": null,
      "outputs": []
    },
    {
      "cell_type": "markdown",
      "source": [
        "## **Fetching Release Year**"
      ],
      "metadata": {
        "id": "mEIt9j6RKa9B"
      }
    },
    {
      "cell_type": "code",
      "source": [
        "# Write Your Code here\n",
        "# Movie release year\n",
        "tv_show_release_year_list = [] # List to store all tv show Release Year\n",
        "\n",
        "# For every tv show title present in tv_show_title_list , Finding their release year\n",
        "for tv_show in tv_show_title_list:\n",
        "\n",
        "    # Constructing the absolute URL for fetching each tv show\n",
        "    absolute_url = 'https://www.justwatch.com/in/tv-show/' + tv_show\n",
        "\n",
        "    # Sending an HTTP GET request to the url\n",
        "    response = requests.get(absolute_url)\n",
        "\n",
        "    # Parsing HTML content with Beautiful Soup\n",
        "    soup = BeautifulSoup(response.text,'html.parser')\n",
        "    tv_show_release_year =soup.find('span',class_='text-muted').text.strip()\n",
        "    tv_show_release_year=tv_show_release_year.replace(\"(\",\"\")\n",
        "    tv_show_release_year=tv_show_release_year.replace(\")\",\"\")\n",
        "    tv_show_release_year_list.append(tv_show_release_year)\n"
      ],
      "metadata": {
        "id": "r72fyiF8JozW"
      },
      "execution_count": null,
      "outputs": []
    },
    {
      "cell_type": "markdown",
      "source": [
        "## **Fetching TV Show Genre Details**"
      ],
      "metadata": {
        "id": "P96pGO9kRCLv"
      }
    },
    {
      "cell_type": "code",
      "source": [
        "# Write Your Code here\n",
        "tv_show_genre_list = [] # List to store all tv show Genres\n",
        "\n",
        "# For every tv show title present in tv_show_title_list , Finding their Genre\n",
        "for tv_show in tv_show_title_list:\n",
        "\n",
        "    # Constructing the absolute URL for fetching each tv show\n",
        "    absolute_url = 'https://www.justwatch.com/in/tv-show/' + tv_show\n",
        "    response = requests.get(absolute_url)\n",
        "    soup = BeautifulSoup(response.text,'html.parser')\n",
        "\n",
        "    # Selecting only those h3 whose heading is genres\n",
        "    h3_element = soup.find('h3', class_='detail-infos__subheading', string='Genres')\n",
        "\n",
        "    if h3_element:\n",
        "        # Check if the next sibling is a div with class \"detail-infos__value\"\n",
        "        div_element = h3_element.find_next_sibling('div', class_='detail-infos__value')\n",
        "\n",
        "        if div_element:\n",
        "            tv_show_genre_list.append(div_element.text.strip())\n",
        "        else:\n",
        "            tv_show_genre_list.append(\"Genre Not Listed\")\n",
        "    else:\n",
        "         tv_show_genre_list.append(\"Genre Not Listed\")\n"
      ],
      "metadata": {
        "id": "Jay8a9xgT43-"
      },
      "execution_count": null,
      "outputs": []
    },
    {
      "cell_type": "markdown",
      "source": [
        "## **Fetching IMDB Rating Details**"
      ],
      "metadata": {
        "id": "hk3eSdDAXQv8"
      }
    },
    {
      "cell_type": "code",
      "source": [
        "# Write Your Code here\n",
        "tv_show_imdb_list = [] # List to store all tv show Imdb Rating\n",
        "\n",
        "# For every tv show title present in tv_show_title_list , Finding their Imdb Rating\n",
        "for tv_show in tv_show_title_list:\n",
        "\n",
        "    # Constructing the absolute URL for fetching each tv show\n",
        "    absolute_url = 'https://www.justwatch.com/in/tv-show/' + tv_show\n",
        "    response = requests.get(absolute_url)\n",
        "    soup = BeautifulSoup(response.text, 'html.parser')\n",
        "\n",
        "    # Selecting only those h3 whose heading is Rating\n",
        "    h3_element = soup.find('h3', class_='detail-infos__subheading', string='Rating')\n",
        "\n",
        "    if h3_element:\n",
        "        # Check if the next sibling is a div with class \"detail-infos__value\"\n",
        "        div_element = h3_element.find_next_sibling('div', class_='detail-infos__value')\n",
        "\n",
        "        if div_element:\n",
        "            inside_div = div_element.find_all('div', class_='jw-scoring-listing__rating')\n",
        "\n",
        "            # Check if inside_div is non-empty\n",
        "            if inside_div:\n",
        "                inside_div_last = inside_div[-1] # extracting last div of inside div as last div elemnt contains span (in which last span contains rating)\n",
        "\n",
        "                # Check if inside_div_last is non-empty\n",
        "                if inside_div_last:\n",
        "                    span_all = inside_div_last.find_all('span')\n",
        "\n",
        "                    # Check if span_all is non-empty\n",
        "                    if span_all:\n",
        "                        span_last = span_all[-1] # Here we are extracting rating from the last span(span_last) inside last div(inside_div_last) of main div_element(div_element)\n",
        "                        tv_show_imdb_list.append(span_last.text.strip())\n",
        "                    else:\n",
        "                        tv_show_imdb_list.append(\"Imdb Rating Not Listed.\")\n",
        "                else:\n",
        "                    tv_show_imdb_list.append(\"Imdb Rating Not Listed.\")\n",
        "            else:\n",
        "                tv_show_imdb_list.append(\"Imdb Rating Not Listed.\")\n",
        "        else:\n",
        "            tv_show_imdb_list.append(\"Imdb Rating Not Listed.\")\n",
        "    else:\n",
        "        tv_show_imdb_list.append(\"Imdb Rating Not Listed.\")"
      ],
      "metadata": {
        "id": "EmltFOQEXM2W"
      },
      "execution_count": null,
      "outputs": []
    },
    {
      "cell_type": "markdown",
      "source": [
        "## **Fetching Age Rating Details**"
      ],
      "metadata": {
        "id": "XZ9nJhmiZB_W"
      }
    },
    {
      "cell_type": "code",
      "source": [
        "# Write Your Code here\n",
        "tv_show_age_rating_list = [] # List to store all tv show Age Ratings\n",
        "\n",
        "# For every tv show title present in tv_show_title_list , Finding their Age Rating\n",
        "for tv_show in tv_show_title_list:\n",
        "\n",
        "    # Constructing the absolute URL for fetching each tv show\n",
        "    absolute_url = 'https://www.justwatch.com/in/tv-show/' + tv_show\n",
        "    response = requests.get(absolute_url)\n",
        "    soup = BeautifulSoup(response.text,'html.parser')\n",
        "\n",
        "    # Selecting only those h3 whose heading is Age rating\n",
        "    h3_element = soup.find('h3', class_='detail-infos__subheading', string='Age rating')\n",
        "\n",
        "    if h3_element:\n",
        "        # Check if the next sibling is a div with class \"detail-infos__value\"\n",
        "        div_element = h3_element.find_next_sibling('div', class_='detail-infos__value')\n",
        "\n",
        "        if div_element:\n",
        "            tv_show_age_rating_list.append(div_element.text.strip())\n",
        "        else:\n",
        "            tv_show_age_rating_list.append(\"Age Rating Not Listed.\")\n",
        "    else:\n",
        "         tv_show_age_rating_list.append(\"Age Rating Not Listed.\")\n"
      ],
      "metadata": {
        "id": "wR9Xo8piZA7p"
      },
      "execution_count": null,
      "outputs": []
    },
    {
      "cell_type": "markdown",
      "source": [
        "## **Fetching Production Country details**"
      ],
      "metadata": {
        "id": "ii49LH4tdNoN"
      }
    },
    {
      "cell_type": "code",
      "source": [
        "# Write Your Code here\n",
        "tv_show_production_country_list=[] # List to store all tv show Production Countries\n",
        "\n",
        "# For every tv show title present in tv_show_title_list , Finding their Production country\n",
        "for tv_show in tv_show_title_list:\n",
        "\n",
        "    # Constructing the absolute URL for fetching each tv show\n",
        "    absolute_url = 'https://www.justwatch.com/in/tv-show/' + tv_show\n",
        "    response = requests.get(absolute_url)\n",
        "    soup = BeautifulSoup(response.text,'html.parser')\n",
        "\n",
        "    # Selecting only those h3 whose sub-heading inside details- infos is 'Production Country'\n",
        "    h3_element = soup.find('h3', class_='detail-infos__subheading', string=' Production country ')\n",
        "\n",
        "    if h3_element:\n",
        "        # Check if the next sibling is a div with class \"detail-infos__value\"\n",
        "        div_element = h3_element.find_next_sibling('div', class_='detail-infos__value')\n",
        "\n",
        "        if div_element:\n",
        "            tv_show_production_country_list.append(div_element.text.strip())\n",
        "        else:\n",
        "            tv_show_production_country_list.append(\"Production Country Not Listed\")\n",
        "    else:\n",
        "          tv_show_production_country_list.append(\"Production Country Not Listed\")"
      ],
      "metadata": {
        "id": "xihOeyN8XXDt"
      },
      "execution_count": null,
      "outputs": []
    },
    {
      "cell_type": "markdown",
      "source": [
        "## **Fetching Streaming Service details**"
      ],
      "metadata": {
        "id": "mHZwwgiKdlQm"
      }
    },
    {
      "cell_type": "code",
      "source": [
        "# Write Your Code here\n",
        "tv_show_streaming_list=[] # List to store all tv show Streaming Platorms\n",
        "\n",
        "# For every tv show title present in tv_show_title_list , Finding their Streaming Platform\n",
        "for tv_show in tv_show_title_list:\n",
        "\n",
        "    # Constructing the absolute URL for fetching each tv show\n",
        "    absolute_url = 'https://www.justwatch.com/in/tv-show/' + tv_show\n",
        "    response = requests.get(absolute_url)\n",
        "    soup = BeautifulSoup(response.text,'html.parser')\n",
        "\n",
        "    # Finding the outer div element with the class \"buybox-row stream\"\n",
        "    outer_div = soup.find('div', class_='buybox-row stream')\n",
        "\n",
        "    if outer_div:\n",
        "        # Finding the nested div with class \"buybox-row__offers\" inside the outer div\n",
        "        inner_div = outer_div.find('div', class_='buybox-row__offers')\n",
        "\n",
        "        if inner_div:\n",
        "            # Find the picture element within the nested div\n",
        "            picture_element = inner_div.find('picture')\n",
        "\n",
        "            if picture_element:\n",
        "                # Extract the alt attribute from the img element inside the picture which contains streaming platform name\n",
        "                img_element = picture_element.find('img')\n",
        "                if img_element:\n",
        "                    alt_text = img_element['alt']\n",
        "                    tv_show_streaming_list.append(alt_text)\n",
        "                else:\n",
        "                    tv_show_streaming_list.append(\"Not Available for Streaming.\")\n",
        "            else:\n",
        "                tv_show_streaming_list.append(\"Not Available for Streaming.\")\n",
        "        else:\n",
        "            tv_show_streaming_list.append(\"Not Available for Streaming.\")\n",
        "    else:\n",
        "        tv_show_streaming_list.append(\"Not Available for Streaming.\")"
      ],
      "metadata": {
        "id": "_MBl6Vqadrl9"
      },
      "execution_count": null,
      "outputs": []
    },
    {
      "cell_type": "markdown",
      "source": [
        "## **Fetching Duration Details**"
      ],
      "metadata": {
        "id": "uUOtDJv9gM4a"
      }
    },
    {
      "cell_type": "code",
      "source": [
        "# Write Your Code here\n",
        "tv_show_runtime_list=[]# List to store all movie runtime/duration\n",
        "\n",
        "# For every movie title present in movies_title_list , Finding their Runtime/Duration\n",
        "for tv_show in tv_show_runtime_list:\n",
        "\n",
        "    # Constructing the absolute URL for fetching each movie\n",
        "    absolute_url = 'https://www.justwatch.com/in/movie/' + tv_show\n",
        "    response_g = requests.get(absolute_url)\n",
        "    soup = BeautifulSoup(response_g.text,'html.parser')\n",
        "\n",
        "    # Selecting only those h3 whose heading is runtine\n",
        "    h3_element = soup.find('h3', class_='detail-infos__subheading', string='Runtime')\n",
        "\n",
        "    if h3_element:\n",
        "        # Check if the next sibling is a div with class \"detail-infos__value\"\n",
        "        div_element = h3_element.find_next_sibling('div', class_='detail-infos__value')\n",
        "\n",
        "        if div_element:\n",
        "            tv_show_runtime_list.append(div_element.text.strip())\n",
        "        else:\n",
        "            tv_show_runtime_list.append(\"No Runtime/Duration mentioned\")\n",
        "    else:\n",
        "      tv_show_runtime_list.append(\"No Runtime/Duration mentioned\")\n"
      ],
      "metadata": {
        "id": "o4x4YY6AfoL1"
      },
      "execution_count": null,
      "outputs": []
    },
    {
      "cell_type": "markdown",
      "source": [
        "## **Creating TV Show DataFrame**"
      ],
      "metadata": {
        "id": "nD4QVPT-nfVR"
      }
    },
    {
      "cell_type": "code",
      "source": [
        "# Write Your Code here\n",
        "data_tv_shows = {\n",
        "    'Tv_Show Title':tv_show_title_list,\n",
        "    'IMDB Rating':tv_show_imdb_list,\n",
        "    'Release Year':tv_show_release_year_list,\n",
        "    'Genre':tv_show_genre_list,\n",
        "    'Runtime/Duration':tv_show_runtime_list,\n",
        "    'Age Rating':tv_show_age_rating_list,\n",
        "    'Production Country':tv_show_production_country_list,\n",
        "    'Streaming Platform':tv_show_streaming_list,\n",
        "    'Url':tv_show_url_list\n",
        "}\n",
        "\n",
        "df_tv_shows = pd.DataFrame(data_tv_shows)"
      ],
      "metadata": {
        "id": "W3Lnlb-xip2U"
      },
      "execution_count": null,
      "outputs": []
    },
    {
      "cell_type": "markdown",
      "source": [
        "## **Task 2 :- Data Filtering & Analysis**"
      ],
      "metadata": {
        "id": "CyqHHKh4IDx6"
      }
    },
    {
      "cell_type": "code",
      "source": [
        "# Write Your Code here\n",
        "from datetime import datetime, timedelta\n",
        "\n",
        "# Get the current date\n",
        "current_date = datetime.now()\n",
        "\n",
        "# Calculate the date 2 years ago from the current date\n",
        "two_years_ago = current_date - timedelta(days=365 * 2)\n",
        "\n",
        "def filter_df(df, release_year_col, imdb_rating_col, years_ago, current_date):\n",
        "    # Convert 'Release Year' to datetime format\n",
        "    df[release_year_col] = pd.to_datetime(df[release_year_col], errors='coerce')\n",
        "\n",
        "    # Filter the DataFrame to include only entries released in the last `years_ago` years\n",
        "    filtered_df = df[(df[release_year_col] >= two_years_ago) & (df[release_year_col] <= current_date)].copy()\n",
        "\n",
        "    # Converting 'IMDB Rating' column to a string so that, in the next step, we can convert it to numeric values\n",
        "    filtered_df.loc[:, imdb_rating_col] = filtered_df[imdb_rating_col].astype(str)\n",
        "\n",
        "    # Extract numeric part and convert to numeric\n",
        "    filtered_df[imdb_rating_col] = pd.to_numeric(filtered_df[imdb_rating_col].str.extract(r'([\\d.]+)', expand=False), errors='coerce')\n",
        "\n",
        "    # Filter the DataFrame to include only entries whose IMDb Rating >= 7\n",
        "    filtered_df = filtered_df[filtered_df[imdb_rating_col] >= 7]\n",
        "\n",
        "    return filtered_df\n",
        "\n",
        "# Filtering Movies\n",
        "filtered_df_movies = filter_df(df_movies, 'Release Year', 'IMDB Rating', two_years_ago, current_date)\n",
        "\n",
        "# Filtering TV Shows\n",
        "filtered_df_tv_shows = filter_df(df_tv_shows, 'Release Year', 'IMDB Rating', two_years_ago, current_date)"
      ],
      "metadata": {
        "id": "ly64H04vH1v9"
      },
      "execution_count": null,
      "outputs": []
    },
    {
      "cell_type": "markdown",
      "source": [
        "## **Calculating Mean IMDB Ratings for both Movies and Tv Shows**"
      ],
      "metadata": {
        "id": "0bPDbn-gPyfm"
      }
    },
    {
      "cell_type": "code",
      "source": [
        "# Write Your Code here\n",
        "movie_mean_imdb = filtered_df_movies['IMDB Rating'].mean()\n",
        "movie_mean_imdb_rounded = round(movie_mean_imdb, 2)  # Use built-in round function\n",
        "print(movie_mean_imdb_rounded)\n",
        "\n",
        "# Calculating mean IMDb rating for TV shows\n",
        "tv_mean_imdb = filtered_df_tv_shows['IMDB Rating'].mean()\n",
        "tv_mean_imdb_rounded = round(tv_mean_imdb, 2)  # Use built-in round function\n",
        "print(tv_mean_imdb_rounded)"
      ],
      "metadata": {
        "id": "6aGmGPOlIkk4"
      },
      "execution_count": null,
      "outputs": []
    },
    {
      "cell_type": "markdown",
      "source": [
        "## **Analyzing Top Genres**"
      ],
      "metadata": {
        "id": "N_OroblUQG4r"
      }
    },
    {
      "cell_type": "code",
      "source": [
        "# Write Your Code here\n",
        "def get_top_10_imdb(df):\n",
        "\n",
        "  # Convert 'IMDB Rating' column to string\n",
        "  df['IMDB Rating'] = df['IMDB Rating'].astype(str)\n",
        "\n",
        "  # Extract only the IMDb rating value\n",
        "  df['IMDB Rating'] = df['IMDB Rating'].str.extract('(\\d+\\.\\d+)')\n",
        "\n",
        "  # Convert the 'IMDB Rating' column to numeric\n",
        "  df['IMDB Rating'] = pd.to_numeric(df['IMDB Rating'], errors='coerce')\n",
        "\n",
        "  # Select the top 10 movies/Tv Shows based on IMDb rating\n",
        "  top_10 = df.nlargest(10, 'IMDB Rating')\n",
        "\n",
        "  return top_10"
      ],
      "metadata": {
        "id": "4ljPnIn2LJLZ"
      },
      "execution_count": null,
      "outputs": []
    },
    {
      "cell_type": "code",
      "source": [
        "#Let's Visvalize it using word cloud\n",
        "from wordcloud import WordCloud\n",
        "import matplotlib.pyplot as plt\n",
        "\n",
        "# Example IMDb ratings data for movies and TV shows (you can replace this with your DataFrames)\n",
        "movies_ratings = {\n",
        "    'Avatar': 8.1,\n",
        "    'The Pursuit of Happyness': 7.5,\n",
        "    'Inception': 9.0,\n",
        "    'Toy Story': 8.3,\n",
        "}\n",
        "\n",
        "tv_shows_ratings = {\n",
        "    'Stranger Things': 8.7,\n",
        "    'Breaking Bad': 9.1,\n",
        "    'The Office': 8.8,\n",
        "    'Friends': 8.5,\n",
        "}\n",
        "\n",
        "# Combine movie and TV show ratings into one dictionary for visualization\n",
        "combined_ratings = {**movies_ratings, **tv_shows_ratings}\n",
        "\n",
        "# Generate a word cloud\n",
        "wordcloud = WordCloud(width=800, height=400, background_color='white').generate_from_frequencies(combined_ratings)\n",
        "\n",
        "# Plot the word cloud\n",
        "plt.figure(figsize=(10, 5))\n",
        "plt.imshow(wordcloud, interpolation='bilinear')\n",
        "plt.axis('off')  # Remove axis\n",
        "plt.title('IMDb Ratings Word Cloud', fontsize=16)\n",
        "plt.show()"
      ],
      "metadata": {
        "id": "7Nqu7MEEYa3c",
        "outputId": "811231ec-0ae3-43e1-f664-6aba593e086e",
        "colab": {
          "base_uri": "https://localhost:8080/",
          "height": 446
        }
      },
      "execution_count": null,
      "outputs": [
        {
          "output_type": "display_data",
          "data": {
            "text/plain": [
              "<Figure size 1000x500 with 1 Axes>"
            ],
            "image/png": "[encoded data removed]"
          },
          "metadata": {}
        }
      ]
    },
    {
      "cell_type": "markdown",
      "source": [
        "## **Finding Predominant Streaming Service**"
      ],
      "metadata": {
        "id": "BUPye0P0QP5I"
      }
    },
    {
      "cell_type": "code",
      "source": [
        "# Write Your Code here\n",
        "def visualize_streaming_distribution_wordcloud(df):\n",
        "    # Filter streaming information available\n",
        "    streaming_platforms = df[df['Streaming Platform'] != 'Not Available for Streaming.']['Streaming Platform']\n",
        "\n",
        "    # Create a string of streaming platforms\n",
        "    streaming_text = ' '.join(streaming_platforms)\n",
        "\n",
        "    # Generate the word cloud\n",
        "    wordcloud = WordCloud(width=800, height=400, background_color='white').generate(streaming_text)\n",
        "\n",
        "    # Display the word cloud\n",
        "    plt.figure(figsize=(10, 6))\n",
        "    plt.imshow(wordcloud, interpolation='bilinear')\n",
        "    plt.axis('off')\n",
        "    plt.title('Streaming Service Distribution - Word Cloud')\n",
        "    plt.show()\n",
        "\n",
        "    # Identify the predominant streaming service\n",
        "    predominant_service = streaming_platforms.mode().iloc[0]\n",
        "    print(f\"The predominant streaming service is: {predominant_service}\")\n",
        "\n",
        "# Call the function with the sample DataFrame\n"
      ],
      "metadata": {
        "id": "cLXiCZSAO_40"
      },
      "execution_count": null,
      "outputs": []
    },
    {
      "cell_type": "code",
      "source": [
        "#Let's Visvalize it using word cloud\n",
        "visualize_streaming_distribution_wordcloud(df)"
      ],
      "metadata": {
        "id": "e0xdIO8APJYm",
        "outputId": "f733081c-5851-41fe-aa79-0ee636b1a076",
        "colab": {
          "base_uri": "https://localhost:8080/",
          "height": 709
        }
      },
      "execution_count": null,
      "outputs": [
        {
          "output_type": "display_data",
          "data": {
            "text/plain": [
              "<Figure size 1000x600 with 1 Axes>"
            ],
            "image/png": "[encoded data removed]"
          },
          "metadata": {}
        },
        {
          "output_type": "error",
          "ename": "TypeError",
          "evalue": "'DataFrame' object is not callable",
          "traceback": [
            "\u001b[0;31m---------------------------------------------------------------------------\u001b[0m",
            "\u001b[0;31mTypeError\u001b[0m                                 Traceback (most recent call last)",
            "\u001b[0;32m<ipython-input-83-8fc2dc15dda1>\u001b[0m in \u001b[0;36m<cell line: 2>\u001b[0;34m()\u001b[0m\n\u001b[1;32m      1\u001b[0m \u001b[0;31m#Let's Visvalize it using word cloud\u001b[0m\u001b[0;34m\u001b[0m\u001b[0;34m\u001b[0m\u001b[0m\n\u001b[0;32m----> 2\u001b[0;31m \u001b[0mvisualize_streaming_distribution_wordcloud\u001b[0m\u001b[0;34m(\u001b[0m\u001b[0mdf\u001b[0m\u001b[0;34m)\u001b[0m\u001b[0;34m\u001b[0m\u001b[0;34m\u001b[0m\u001b[0m\n\u001b[0m",
            "\u001b[0;32m<ipython-input-82-22ef3c293755>\u001b[0m in \u001b[0;36mvisualize_streaming_distribution_wordcloud\u001b[0;34m(df)\u001b[0m\n\u001b[1;32m     19\u001b[0m     \u001b[0;31m# Identify the predominant streaming service\u001b[0m\u001b[0;34m\u001b[0m\u001b[0;34m\u001b[0m\u001b[0m\n\u001b[1;32m     20\u001b[0m     \u001b[0mpredominant_service\u001b[0m \u001b[0;34m=\u001b[0m \u001b[0mstreaming_platforms\u001b[0m\u001b[0;34m.\u001b[0m\u001b[0mmode\u001b[0m\u001b[0;34m(\u001b[0m\u001b[0;34m)\u001b[0m\u001b[0;34m.\u001b[0m\u001b[0miloc\u001b[0m\u001b[0;34m[\u001b[0m\u001b[0;36m0\u001b[0m\u001b[0;34m]\u001b[0m\u001b[0;34m\u001b[0m\u001b[0;34m\u001b[0m\u001b[0m\n\u001b[0;32m---> 21\u001b[0;31m     \u001b[0mprint\u001b[0m\u001b[0;34m(\u001b[0m\u001b[0;34mf\"The predominant streaming service is: {predominant_service}\"\u001b[0m\u001b[0;34m)\u001b[0m\u001b[0;34m\u001b[0m\u001b[0;34m\u001b[0m\u001b[0m\n\u001b[0m\u001b[1;32m     22\u001b[0m \u001b[0;34m\u001b[0m\u001b[0m\n\u001b[1;32m     23\u001b[0m \u001b[0;31m# Call the function with the sample DataFrame\u001b[0m\u001b[0;34m\u001b[0m\u001b[0;34m\u001b[0m\u001b[0m\n",
            "\u001b[0;31mTypeError\u001b[0m: 'DataFrame' object is not callable"
          ]
        }
      ]
    },
    {
      "cell_type": "markdown",
      "source": [
        "## **Task 3 :- Data Export**"
      ],
      "metadata": {
        "id": "tytqsADVR2x6"
      }
    },
    {
      "cell_type": "code",
      "source": [
        "#saving final dataframe as Final Data in csv format\n",
        "df_movies.to_csv('Final_Movies_Data.csv', index=False)\n",
        "df_tv_shows.to_csv('Final_Tv_Shows_Data.csv', index=False)"
      ],
      "metadata": {
        "id": "u4yaUlvrRj6g"
      },
      "execution_count": null,
      "outputs": []
    },
    {
      "cell_type": "code",
      "source": [
        "#saving filter data as Filter Data in csv format\n",
        "filtered_df_movies.to_csv('Filtered_Movies_Data.csv', index=False)\n",
        "filtered_df_tv_shows.to_csv('Filtered_Tv_Shows_Data.csv', index=False)"
      ],
      "metadata": {
        "id": "SSmCEV22SSW_"
      },
      "execution_count": null,
      "outputs": []
    },
    {
      "cell_type": "markdown",
      "source": [
        "# **Dataset Drive Link (View Access with Anyone) -**"
      ],
      "metadata": {
        "id": "j6F3wrlGWOcl"
      }
    },
    {
      "cell_type": "markdown",
      "source": [
        "# ***Congratulations!!! You have completed your Assignment.***"
      ],
      "metadata": {
        "id": "9s-10dFhWZf4"
      }
    }
  ]
}